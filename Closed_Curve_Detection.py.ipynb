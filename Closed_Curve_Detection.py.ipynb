{
 "cells": [
  {
   "cell_type": "code",
   "execution_count": 21,
   "metadata": {},
   "outputs": [
    {
     "data": {
      "text/plain": [
       "<matplotlib.image.AxesImage at 0x7fdd9afaf4e0>"
      ]
     },
     "execution_count": 21,
     "metadata": {},
     "output_type": "execute_result"
    },
    {
     "data": {
      "image/png": "[encoded data removed]",
      "text/plain": [
       "<Figure size 432x288 with 1 Axes>"
      ]
     },
     "metadata": {
      "needs_background": "light"
     },
     "output_type": "display_data"
    }
   ],
   "source": [
    "#Edge detection\n",
    "import numpy as np\n",
    "import matplotlib.pyplot as plt\n",
    "import cv2\n",
    "image = cv2.imread(\"abc.TIF\")\n",
    "shifted = cv2.pyrMeanShiftFiltering(image, 21, 96)\n",
    "# Otsu's thresholding\n",
    "gray = cv2.cvtColor(shifted, cv2.COLOR_BGR2GRAY)\n",
    "thresh = cv2.threshold(gray, 0, 255, cv2.THRESH_BINARY | cv2.THRESH_OTSU)[1]\n",
    "plt.imshow(thresh)"
   ]
  },
  {
   "cell_type": "code",
   "execution_count": null,
   "metadata": {},
   "outputs": [],
   "source": [
    "rows, cols = thresh.shape\n",
    "sobel_horizontal = cv2.Sobel(thresh, cv2.CV_64F, 1, 0, ksize=31)\n",
    "sobel_vertical = cv2.Sobel(thresh, cv2.CV_64F, 0, 1, ksize=31)\n",
    "plt.imshow(sobel_horizontal)\n",
    "plt.imshow(sobel_vertical)"
   ]
  },
  {
   "cell_type": "code",
   "execution_count": 4,
   "metadata": {},
   "outputs": [
    {
     "data": {
      "text/plain": [
       "<matplotlib.image.AxesImage at 0x7f365a6c25c0>"
      ]
     },
     "execution_count": 4,
     "metadata": {},
     "output_type": "execute_result"
    },
    {
     "data": {
      "image/png": "[encoded data removed]",
      "text/plain": [
       "<Figure size 432x288 with 1 Axes>"
      ]
     },
     "metadata": {
      "needs_background": "light"
     },
     "output_type": "display_data"
    }
   ],
   "source": [
    "plt.imshow([[-1,0,1]])"
   ]
  },
  {
   "cell_type": "code",
   "execution_count": 5,
   "metadata": {},
   "outputs": [
    {
     "data": {
      "text/plain": [
       "[2, 2]"
      ]
     },
     "execution_count": 5,
     "metadata": {},
     "output_type": "execute_result"
    }
   ],
   "source": [
    "a = []\n",
    "b = [2,2]\n",
    "c = [1,1]\n",
    "a.append(b)\n",
    "a.append(c)\n",
    "a[0]"
   ]
  },
  {
   "cell_type": "code",
   "execution_count": 6,
   "metadata": {},
   "outputs": [],
   "source": [
    "def rem_dup(duplicate):#function to remove duplicate list entries\n",
    "    final_list = []\n",
    "    for num in duplicate:\n",
    "        if num not in final_list:\n",
    "            final_list.append(num)\n",
    "    return final_list"
   ]
  },
  {
   "cell_type": "code",
   "execution_count": 22,
   "metadata": {},
   "outputs": [
    {
     "name": "stdout",
     "output_type": "stream",
     "text": [
      "hole search finished!\n",
      "775107\n"
     ]
    }
   ],
   "source": [
    "#Vertical closed column detection using look-ahead\n",
    "coords_ver = []\n",
    "col_trios = []#representing [rowstrrtin, row ending, column] of closed curve\n",
    "c = 700\n",
    "hole_found = False\n",
    "while c < 1500:\n",
    "    #print(\"c\")\n",
    "    r = 700\n",
    "    while r < 1500:\n",
    "        #print(\"r\")\n",
    "        #print(sobel_vertical[r][c])\n",
    "        if sobel_vertical[r][c] < 0 :\n",
    "            r_dash = r\n",
    "            #print(\"looking ahead\")\n",
    "            while r_dash < 1700:\n",
    "                if sobel_vertical[r_dash][c] > 0:\n",
    "                    #print(\"hole found!\")\n",
    "                    col_trios.append([r, r_dash, c])\n",
    "                    hole_found = True\n",
    "                    break\n",
    "                r_dash+=1    \n",
    "        \n",
    "        r+=1\n",
    "    c+=1\n",
    "print(\"hole search finished!\")\n",
    "col_trios = rem_dup(col_trios)\n",
    "for trio in col_trios:\n",
    "    row = trio[0]\n",
    "    while row < trio[1]:\n",
    "        coords_ver.append([row, trio[2]])\n",
    "        row+=1\n",
    "print(len(coords_ver))"
   ]
  },
  {
   "cell_type": "code",
   "execution_count": 23,
   "metadata": {},
   "outputs": [
    {
     "name": "stdout",
     "output_type": "stream",
     "text": [
      "hole search finished!\n",
      "1089876\n"
     ]
    }
   ],
   "source": [
    "#Horizontal closed rows detection using look-ahead\n",
    "coords_hor = []\n",
    "row_trios = []#representing [row , column strarting, column ending] of closed curve\n",
    "r = 100\n",
    "hole_found = False\n",
    "while r < 1700:\n",
    "    #print(\"r\")\n",
    "    c = 500\n",
    "    while c < 1700:\n",
    "        #print(\"c\")\n",
    "        #print(sobel_horizontal[r][c])\n",
    "        if sobel_horizontal[r][c] < 0 :\n",
    "            c_dash = c\n",
    "            #print(\"looking ahead\")\n",
    "            while c_dash < 1700:\n",
    "                if sobel_horizontal[r][c_dash] > 0:\n",
    "                    #print(\"hole found!\")\n",
    "                    row_trios.append([r, c, c_dash])\n",
    "                    hole_found = True\n",
    "                    break\n",
    "                c_dash+=1    \n",
    "        c+=1\n",
    "    r+=1\n",
    "print(\"hole search finished!\")\n",
    "row_trios = rem_dup(row_trios)\n",
    "for trio in row_trios:\n",
    "    col = trio[1]\n",
    "    while col < trio[2]:\n",
    "        coords_hor.append([trio[0], col])\n",
    "        col+=1\n",
    "print(len(coords_hor))"
   ]
  },
  {
   "cell_type": "code",
   "execution_count": 30,
   "metadata": {},
   "outputs": [
    {
     "data": {
      "text/plain": [
       "[932, 1216]"
      ]
     },
     "execution_count": 30,
     "metadata": {},
     "output_type": "execute_result"
    }
   ],
   "source": [
    "#intersection of both detected regions\n",
    "#enclosed_pixels = set(coords_ver).intersection(set(coords_hor)\n",
    "coords_ver_stuff = set(map(tuple, coords_ver))\n",
    "enclosed_pixels = [x for x in coords_hor if tuple(x) in coords_ver_stuff]"
   ]
  },
  {
   "cell_type": "code",
   "execution_count": 52,
   "metadata": {},
   "outputs": [
    {
     "data": {
      "text/plain": [
       "577031"
      ]
     },
     "execution_count": 52,
     "metadata": {},
     "output_type": "execute_result"
    }
   ],
   "source": [
    "len(enclosed_pixels)\n",
    "#type(enclosed_pixels)\n",
    "#enclosed_pixels[0]"
   ]
  },
  {
   "cell_type": "code",
   "execution_count": 48,
   "metadata": {},
   "outputs": [
    {
     "name": "stdout",
     "output_type": "stream",
     "text": [
      "Slice Volume:\n",
      "1.00043326656mm^3\n"
     ]
    }
   ],
   "source": [
    "print(\"Slice Volume:\")\n",
    "print(str(len(enclosed_pixels)*1.72*72*14/1000000000)+\" mm^3\")"
   ]
  },
  {
   "cell_type": "code",
   "execution_count": 56,
   "metadata": {},
   "outputs": [
    {
     "name": "stdout",
     "output_type": "stream",
     "text": [
      "abc\n",
      "(2516, 2516)\n"
     ]
    },
    {
     "data": {
      "text/plain": [
       "'\\ni = 700\\nwhile i<800:\\n    j = 700\\n    while j<800:\\n        if [i,j] in enclosed_pixels:\\n            canvas[i,j] = 1;\\n        j+=1\\n    i+=1    \\nplt.imshow(canvas)\\n'"
      ]
     },
     "execution_count": 56,
     "metadata": {},
     "output_type": "execute_result"
    },
    {
     "data": {
      "image/png": "[encoded data removed]",
      "text/plain": [
       "<Figure size 432x288 with 1 Axes>"
      ]
     },
     "metadata": {
      "needs_background": "light"
     },
     "output_type": "display_data"
    }
   ],
   "source": [
    "canvas = np.zeros([len(thresh), len(thresh)])\n",
    "print(\"abc\")\n",
    "print(canvas.shape)\n",
    "plt.imshow(canvas)\n",
    "\"\"\"\n",
    "i = 700\n",
    "while i<800:\n",
    "    j = 700\n",
    "    while j<800:\n",
    "        if [i,j] in enclosed_pixels:\n",
    "            canvas[i,j] = 1;\n",
    "        j+=1\n",
    "    i+=1    \n",
    "plt.imshow(canvas)\n",
    "\"\"\""
   ]
  },
  {
   "cell_type": "code",
   "execution_count": 6,
   "metadata": {},
   "outputs": [
    {
     "data": {
      "text/plain": [
       "8"
      ]
     },
     "execution_count": 6,
     "metadata": {},
     "output_type": "execute_result"
    }
   ],
   "source": [
    "cv2.THRESH_OTSU"
   ]
  },
  {
   "cell_type": "code",
   "execution_count": null,
   "metadata": {},
   "outputs": [],
   "source": []
  }
 ],
 "metadata": {
  "kernelspec": {
   "display_name": "Python 3",
   "language": "python",
   "name": "python3"
  },
  "language_info": {
   "codemirror_mode": {
    "name": "ipython",
    "version": 3
   },
   "file_extension": ".py",
   "mimetype": "text/x-python",
   "name": "python",
   "nbconvert_exporter": "python",
   "pygments_lexer": "ipython3",
   "version": "3.6.9"
  }
 },
 "nbformat": 4,
 "nbformat_minor": 2
}
